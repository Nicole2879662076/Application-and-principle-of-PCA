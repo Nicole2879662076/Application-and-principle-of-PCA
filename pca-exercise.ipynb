{
 "cells": [
  {
   "cell_type": "markdown",
   "id": "ca6afef4",
   "metadata": {
    "papermill": {
     "duration": 0.009505,
     "end_time": "2022-11-14T02:56:21.728085",
     "exception": false,
     "start_time": "2022-11-14T02:56:21.718580",
     "status": "completed"
    },
    "tags": []
   },
   "source": [
    "# Play MNIST with PCA(code)"
   ]
  },
  {
   "cell_type": "markdown",
   "id": "b967f54f",
   "metadata": {
    "papermill": {
     "duration": 0.008109,
     "end_time": "2022-11-14T02:56:21.744836",
     "exception": false,
     "start_time": "2022-11-14T02:56:21.736727",
     "status": "completed"
    },
    "tags": []
   },
   "source": [
    "The MNISTdatabase is an image dataset of handwritten digits (0~9). Each image in MNIST is represented by a pixel matrix of 28*28, totally 784 elements. Since the images in MNIST are in gray scale, the value of each pixel ranges from 0 to 255, representing different gray degrees.\n",
    "\n",
    "For this assignment, we have a \".csv\" file,  the file represents  image samples. The first column indicates the handwritten digit of the image (label). Each of the rest columns denotes the value of each pixel axis (from 1 to 28 for both x-axis and y-axis) in an image. For example, the column \"1x28\" denotes the pixel value at x=1 (the first row) and y=28 (the 28th column). Now we want you to apply PCA to MNIST for data analytics.\n"
   ]
  },
  {
   "cell_type": "markdown",
   "id": "62fd049a",
   "metadata": {
    "papermill": {
     "duration": 0.007793,
     "end_time": "2022-11-14T02:56:21.760804",
     "exception": false,
     "start_time": "2022-11-14T02:56:21.753011",
     "status": "completed"
    },
    "tags": []
   },
   "source": [
    "## 0. Import"
   ]
  },
  {
   "cell_type": "code",
   "execution_count": 1,
   "id": "d28297e2",
   "metadata": {
    "execution": {
     "iopub.execute_input": "2022-11-14T02:56:21.779091Z",
     "iopub.status.busy": "2022-11-14T02:56:21.778527Z",
     "iopub.status.idle": "2022-11-14T02:56:21.793709Z",
     "shell.execute_reply": "2022-11-14T02:56:21.792634Z"
    },
    "papermill": {
     "duration": 0.027428,
     "end_time": "2022-11-14T02:56:21.796295",
     "exception": false,
     "start_time": "2022-11-14T02:56:21.768867",
     "status": "completed"
    },
    "tags": []
   },
   "outputs": [],
   "source": [
    "import numpy as np\n",
    "import pandas as pd \n",
    "import os\n",
    "import matplotlib.pyplot as plt\n",
    "from pylab import *\n",
    "###from sklearn.decomposition import PCA"
   ]
  },
  {
   "cell_type": "markdown",
   "id": "d05957d4",
   "metadata": {
    "papermill": {
     "duration": 0.00794,
     "end_time": "2022-11-14T02:56:21.812495",
     "exception": false,
     "start_time": "2022-11-14T02:56:21.804555",
     "status": "completed"
    },
    "tags": []
   },
   "source": [
    "## 1. Load \"mnist.csv\" with pandas"
   ]
  },
  {
   "cell_type": "code",
   "execution_count": 2,
   "id": "4d496ad8",
   "metadata": {
    "execution": {
     "iopub.execute_input": "2022-11-14T02:56:21.832636Z",
     "iopub.status.busy": "2022-11-14T02:56:21.831470Z",
     "iopub.status.idle": "2022-11-14T02:56:26.995511Z",
     "shell.execute_reply": "2022-11-14T02:56:26.994335Z"
    },
    "papermill": {
     "duration": 5.178075,
     "end_time": "2022-11-14T02:56:26.998652",
     "exception": false,
     "start_time": "2022-11-14T02:56:21.820577",
     "status": "completed"
    },
    "tags": []
   },
   "outputs": [
    {
     "data": {
      "text/html": [
       "<div>\n",
       "<style scoped>\n",
       "    .dataframe tbody tr th:only-of-type {\n",
       "        vertical-align: middle;\n",
       "    }\n",
       "\n",
       "    .dataframe tbody tr th {\n",
       "        vertical-align: top;\n",
       "    }\n",
       "\n",
       "    .dataframe thead th {\n",
       "        text-align: right;\n",
       "    }\n",
       "</style>\n",
       "<table border=\"1\" class=\"dataframe\">\n",
       "  <thead>\n",
       "    <tr style=\"text-align: right;\">\n",
       "      <th></th>\n",
       "      <th>label</th>\n",
       "      <th>1x1</th>\n",
       "      <th>1x2</th>\n",
       "      <th>1x3</th>\n",
       "      <th>1x4</th>\n",
       "      <th>1x5</th>\n",
       "      <th>1x6</th>\n",
       "      <th>1x7</th>\n",
       "      <th>1x8</th>\n",
       "      <th>1x9</th>\n",
       "      <th>...</th>\n",
       "      <th>28x19</th>\n",
       "      <th>28x20</th>\n",
       "      <th>28x21</th>\n",
       "      <th>28x22</th>\n",
       "      <th>28x23</th>\n",
       "      <th>28x24</th>\n",
       "      <th>28x25</th>\n",
       "      <th>28x26</th>\n",
       "      <th>28x27</th>\n",
       "      <th>28x28</th>\n",
       "    </tr>\n",
       "  </thead>\n",
       "  <tbody>\n",
       "    <tr>\n",
       "      <th>0</th>\n",
       "      <td>5</td>\n",
       "      <td>0</td>\n",
       "      <td>0</td>\n",
       "      <td>0</td>\n",
       "      <td>0</td>\n",
       "      <td>0</td>\n",
       "      <td>0</td>\n",
       "      <td>0</td>\n",
       "      <td>0</td>\n",
       "      <td>0</td>\n",
       "      <td>...</td>\n",
       "      <td>0</td>\n",
       "      <td>0</td>\n",
       "      <td>0</td>\n",
       "      <td>0</td>\n",
       "      <td>0</td>\n",
       "      <td>0</td>\n",
       "      <td>0</td>\n",
       "      <td>0</td>\n",
       "      <td>0</td>\n",
       "      <td>0</td>\n",
       "    </tr>\n",
       "    <tr>\n",
       "      <th>1</th>\n",
       "      <td>0</td>\n",
       "      <td>0</td>\n",
       "      <td>0</td>\n",
       "      <td>0</td>\n",
       "      <td>0</td>\n",
       "      <td>0</td>\n",
       "      <td>0</td>\n",
       "      <td>0</td>\n",
       "      <td>0</td>\n",
       "      <td>0</td>\n",
       "      <td>...</td>\n",
       "      <td>0</td>\n",
       "      <td>0</td>\n",
       "      <td>0</td>\n",
       "      <td>0</td>\n",
       "      <td>0</td>\n",
       "      <td>0</td>\n",
       "      <td>0</td>\n",
       "      <td>0</td>\n",
       "      <td>0</td>\n",
       "      <td>0</td>\n",
       "    </tr>\n",
       "    <tr>\n",
       "      <th>2</th>\n",
       "      <td>4</td>\n",
       "      <td>0</td>\n",
       "      <td>0</td>\n",
       "      <td>0</td>\n",
       "      <td>0</td>\n",
       "      <td>0</td>\n",
       "      <td>0</td>\n",
       "      <td>0</td>\n",
       "      <td>0</td>\n",
       "      <td>0</td>\n",
       "      <td>...</td>\n",
       "      <td>0</td>\n",
       "      <td>0</td>\n",
       "      <td>0</td>\n",
       "      <td>0</td>\n",
       "      <td>0</td>\n",
       "      <td>0</td>\n",
       "      <td>0</td>\n",
       "      <td>0</td>\n",
       "      <td>0</td>\n",
       "      <td>0</td>\n",
       "    </tr>\n",
       "    <tr>\n",
       "      <th>3</th>\n",
       "      <td>1</td>\n",
       "      <td>0</td>\n",
       "      <td>0</td>\n",
       "      <td>0</td>\n",
       "      <td>0</td>\n",
       "      <td>0</td>\n",
       "      <td>0</td>\n",
       "      <td>0</td>\n",
       "      <td>0</td>\n",
       "      <td>0</td>\n",
       "      <td>...</td>\n",
       "      <td>0</td>\n",
       "      <td>0</td>\n",
       "      <td>0</td>\n",
       "      <td>0</td>\n",
       "      <td>0</td>\n",
       "      <td>0</td>\n",
       "      <td>0</td>\n",
       "      <td>0</td>\n",
       "      <td>0</td>\n",
       "      <td>0</td>\n",
       "    </tr>\n",
       "    <tr>\n",
       "      <th>4</th>\n",
       "      <td>9</td>\n",
       "      <td>0</td>\n",
       "      <td>0</td>\n",
       "      <td>0</td>\n",
       "      <td>0</td>\n",
       "      <td>0</td>\n",
       "      <td>0</td>\n",
       "      <td>0</td>\n",
       "      <td>0</td>\n",
       "      <td>0</td>\n",
       "      <td>...</td>\n",
       "      <td>0</td>\n",
       "      <td>0</td>\n",
       "      <td>0</td>\n",
       "      <td>0</td>\n",
       "      <td>0</td>\n",
       "      <td>0</td>\n",
       "      <td>0</td>\n",
       "      <td>0</td>\n",
       "      <td>0</td>\n",
       "      <td>0</td>\n",
       "    </tr>\n",
       "    <tr>\n",
       "      <th>...</th>\n",
       "      <td>...</td>\n",
       "      <td>...</td>\n",
       "      <td>...</td>\n",
       "      <td>...</td>\n",
       "      <td>...</td>\n",
       "      <td>...</td>\n",
       "      <td>...</td>\n",
       "      <td>...</td>\n",
       "      <td>...</td>\n",
       "      <td>...</td>\n",
       "      <td>...</td>\n",
       "      <td>...</td>\n",
       "      <td>...</td>\n",
       "      <td>...</td>\n",
       "      <td>...</td>\n",
       "      <td>...</td>\n",
       "      <td>...</td>\n",
       "      <td>...</td>\n",
       "      <td>...</td>\n",
       "      <td>...</td>\n",
       "      <td>...</td>\n",
       "    </tr>\n",
       "    <tr>\n",
       "      <th>59995</th>\n",
       "      <td>8</td>\n",
       "      <td>0</td>\n",
       "      <td>0</td>\n",
       "      <td>0</td>\n",
       "      <td>0</td>\n",
       "      <td>0</td>\n",
       "      <td>0</td>\n",
       "      <td>0</td>\n",
       "      <td>0</td>\n",
       "      <td>0</td>\n",
       "      <td>...</td>\n",
       "      <td>0</td>\n",
       "      <td>0</td>\n",
       "      <td>0</td>\n",
       "      <td>0</td>\n",
       "      <td>0</td>\n",
       "      <td>0</td>\n",
       "      <td>0</td>\n",
       "      <td>0</td>\n",
       "      <td>0</td>\n",
       "      <td>0</td>\n",
       "    </tr>\n",
       "    <tr>\n",
       "      <th>59996</th>\n",
       "      <td>3</td>\n",
       "      <td>0</td>\n",
       "      <td>0</td>\n",
       "      <td>0</td>\n",
       "      <td>0</td>\n",
       "      <td>0</td>\n",
       "      <td>0</td>\n",
       "      <td>0</td>\n",
       "      <td>0</td>\n",
       "      <td>0</td>\n",
       "      <td>...</td>\n",
       "      <td>0</td>\n",
       "      <td>0</td>\n",
       "      <td>0</td>\n",
       "      <td>0</td>\n",
       "      <td>0</td>\n",
       "      <td>0</td>\n",
       "      <td>0</td>\n",
       "      <td>0</td>\n",
       "      <td>0</td>\n",
       "      <td>0</td>\n",
       "    </tr>\n",
       "    <tr>\n",
       "      <th>59997</th>\n",
       "      <td>5</td>\n",
       "      <td>0</td>\n",
       "      <td>0</td>\n",
       "      <td>0</td>\n",
       "      <td>0</td>\n",
       "      <td>0</td>\n",
       "      <td>0</td>\n",
       "      <td>0</td>\n",
       "      <td>0</td>\n",
       "      <td>0</td>\n",
       "      <td>...</td>\n",
       "      <td>0</td>\n",
       "      <td>0</td>\n",
       "      <td>0</td>\n",
       "      <td>0</td>\n",
       "      <td>0</td>\n",
       "      <td>0</td>\n",
       "      <td>0</td>\n",
       "      <td>0</td>\n",
       "      <td>0</td>\n",
       "      <td>0</td>\n",
       "    </tr>\n",
       "    <tr>\n",
       "      <th>59998</th>\n",
       "      <td>6</td>\n",
       "      <td>0</td>\n",
       "      <td>0</td>\n",
       "      <td>0</td>\n",
       "      <td>0</td>\n",
       "      <td>0</td>\n",
       "      <td>0</td>\n",
       "      <td>0</td>\n",
       "      <td>0</td>\n",
       "      <td>0</td>\n",
       "      <td>...</td>\n",
       "      <td>0</td>\n",
       "      <td>0</td>\n",
       "      <td>0</td>\n",
       "      <td>0</td>\n",
       "      <td>0</td>\n",
       "      <td>0</td>\n",
       "      <td>0</td>\n",
       "      <td>0</td>\n",
       "      <td>0</td>\n",
       "      <td>0</td>\n",
       "    </tr>\n",
       "    <tr>\n",
       "      <th>59999</th>\n",
       "      <td>8</td>\n",
       "      <td>0</td>\n",
       "      <td>0</td>\n",
       "      <td>0</td>\n",
       "      <td>0</td>\n",
       "      <td>0</td>\n",
       "      <td>0</td>\n",
       "      <td>0</td>\n",
       "      <td>0</td>\n",
       "      <td>0</td>\n",
       "      <td>...</td>\n",
       "      <td>0</td>\n",
       "      <td>0</td>\n",
       "      <td>0</td>\n",
       "      <td>0</td>\n",
       "      <td>0</td>\n",
       "      <td>0</td>\n",
       "      <td>0</td>\n",
       "      <td>0</td>\n",
       "      <td>0</td>\n",
       "      <td>0</td>\n",
       "    </tr>\n",
       "  </tbody>\n",
       "</table>\n",
       "<p>60000 rows × 785 columns</p>\n",
       "</div>"
      ],
      "text/plain": [
       "       label  1x1  1x2  1x3  1x4  1x5  1x6  1x7  1x8  1x9  ...  28x19  28x20  \\\n",
       "0          5    0    0    0    0    0    0    0    0    0  ...      0      0   \n",
       "1          0    0    0    0    0    0    0    0    0    0  ...      0      0   \n",
       "2          4    0    0    0    0    0    0    0    0    0  ...      0      0   \n",
       "3          1    0    0    0    0    0    0    0    0    0  ...      0      0   \n",
       "4          9    0    0    0    0    0    0    0    0    0  ...      0      0   \n",
       "...      ...  ...  ...  ...  ...  ...  ...  ...  ...  ...  ...    ...    ...   \n",
       "59995      8    0    0    0    0    0    0    0    0    0  ...      0      0   \n",
       "59996      3    0    0    0    0    0    0    0    0    0  ...      0      0   \n",
       "59997      5    0    0    0    0    0    0    0    0    0  ...      0      0   \n",
       "59998      6    0    0    0    0    0    0    0    0    0  ...      0      0   \n",
       "59999      8    0    0    0    0    0    0    0    0    0  ...      0      0   \n",
       "\n",
       "       28x21  28x22  28x23  28x24  28x25  28x26  28x27  28x28  \n",
       "0          0      0      0      0      0      0      0      0  \n",
       "1          0      0      0      0      0      0      0      0  \n",
       "2          0      0      0      0      0      0      0      0  \n",
       "3          0      0      0      0      0      0      0      0  \n",
       "4          0      0      0      0      0      0      0      0  \n",
       "...      ...    ...    ...    ...    ...    ...    ...    ...  \n",
       "59995      0      0      0      0      0      0      0      0  \n",
       "59996      0      0      0      0      0      0      0      0  \n",
       "59997      0      0      0      0      0      0      0      0  \n",
       "59998      0      0      0      0      0      0      0      0  \n",
       "59999      0      0      0      0      0      0      0      0  \n",
       "\n",
       "[60000 rows x 785 columns]"
      ]
     },
     "execution_count": 2,
     "metadata": {},
     "output_type": "execute_result"
    }
   ],
   "source": [
    "df = pd.read_csv(\"../input/mnist-pca/mnist.csv\")\n",
    "df"
   ]
  },
  {
   "cell_type": "markdown",
   "id": "5b7ecf3d",
   "metadata": {
    "papermill": {
     "duration": 0.009405,
     "end_time": "2022-11-14T02:56:27.017249",
     "exception": false,
     "start_time": "2022-11-14T02:56:27.007844",
     "status": "completed"
    },
    "tags": []
   },
   "source": [
    "## 2. Print the shape of the data"
   ]
  },
  {
   "cell_type": "code",
   "execution_count": 3,
   "id": "1be1cd75",
   "metadata": {
    "execution": {
     "iopub.execute_input": "2022-11-14T02:56:27.036274Z",
     "iopub.status.busy": "2022-11-14T02:56:27.035851Z",
     "iopub.status.idle": "2022-11-14T02:56:27.042544Z",
     "shell.execute_reply": "2022-11-14T02:56:27.041176Z"
    },
    "papermill": {
     "duration": 0.018879,
     "end_time": "2022-11-14T02:56:27.044830",
     "exception": false,
     "start_time": "2022-11-14T02:56:27.025951",
     "status": "completed"
    },
    "tags": []
   },
   "outputs": [
    {
     "name": "stdout",
     "output_type": "stream",
     "text": [
      "The shape of mnist.csv is: \n",
      " (60000, 785)\n"
     ]
    }
   ],
   "source": [
    "print(\"The shape of mnist.csv is:\", \"\\n\", df.shape)"
   ]
  },
  {
   "cell_type": "code",
   "execution_count": 4,
   "id": "6991b044",
   "metadata": {
    "execution": {
     "iopub.execute_input": "2022-11-14T02:56:27.064358Z",
     "iopub.status.busy": "2022-11-14T02:56:27.063905Z",
     "iopub.status.idle": "2022-11-14T02:56:27.221794Z",
     "shell.execute_reply": "2022-11-14T02:56:27.220538Z"
    },
    "papermill": {
     "duration": 0.170484,
     "end_time": "2022-11-14T02:56:27.224120",
     "exception": false,
     "start_time": "2022-11-14T02:56:27.053636",
     "status": "completed"
    },
    "tags": []
   },
   "outputs": [
    {
     "name": "stdout",
     "output_type": "stream",
     "text": [
      "The shape of data is: \n",
      " (60000, 784)\n"
     ]
    }
   ],
   "source": [
    "data = df.drop([\"label\"],axis = 1)\n",
    "print(\"The shape of data is:\", \"\\n\", data.shape)"
   ]
  },
  {
   "cell_type": "markdown",
   "id": "50a67258",
   "metadata": {
    "papermill": {
     "duration": 0.009113,
     "end_time": "2022-11-14T02:56:27.242586",
     "exception": false,
     "start_time": "2022-11-14T02:56:27.233473",
     "status": "completed"
    },
    "tags": []
   },
   "source": [
    "## 3. Take the pixel values of the first sample and reshape it to (28, 28)"
   ]
  },
  {
   "cell_type": "markdown",
   "id": "076e05cb",
   "metadata": {
    "papermill": {
     "duration": 0.008617,
     "end_time": "2022-11-14T02:56:27.260531",
     "exception": false,
     "start_time": "2022-11-14T02:56:27.251914",
     "status": "completed"
    },
    "tags": []
   },
   "source": [
    "The function \"change_to_pil_matrix\" will also be used in final step."
   ]
  },
  {
   "cell_type": "code",
   "execution_count": 5,
   "id": "04a54674",
   "metadata": {
    "execution": {
     "iopub.execute_input": "2022-11-14T02:56:27.280146Z",
     "iopub.status.busy": "2022-11-14T02:56:27.279741Z",
     "iopub.status.idle": "2022-11-14T02:56:27.286331Z",
     "shell.execute_reply": "2022-11-14T02:56:27.284789Z"
    },
    "papermill": {
     "duration": 0.019607,
     "end_time": "2022-11-14T02:56:27.289084",
     "exception": false,
     "start_time": "2022-11-14T02:56:27.269477",
     "status": "completed"
    },
    "tags": []
   },
   "outputs": [],
   "source": [
    "def change_to_pil_matrix (dataframe,i):  #aim to take the (i+1)th sample\n",
    "    #select a sample\n",
    "    x = dataframe[i:i+1]\n",
    "    #converts the df of the sample to a 1-dimensional array format\n",
    "    sample = np.array(x)\n",
    "    #turn a 1-dimensional array into a 2-dimensional PIL_matrix (28*28)\n",
    "    PIL_matrix = sample.reshape((28,28))\n",
    "    \n",
    "    return PIL_matrix"
   ]
  },
  {
   "cell_type": "code",
   "execution_count": 6,
   "id": "8e679264",
   "metadata": {
    "execution": {
     "iopub.execute_input": "2022-11-14T02:56:27.308791Z",
     "iopub.status.busy": "2022-11-14T02:56:27.308402Z",
     "iopub.status.idle": "2022-11-14T02:56:27.317302Z",
     "shell.execute_reply": "2022-11-14T02:56:27.316021Z"
    },
    "papermill": {
     "duration": 0.021876,
     "end_time": "2022-11-14T02:56:27.320032",
     "exception": false,
     "start_time": "2022-11-14T02:56:27.298156",
     "status": "completed"
    },
    "tags": []
   },
   "outputs": [
    {
     "name": "stdout",
     "output_type": "stream",
     "text": [
      "The shape of first_sample is: \n",
      " (28, 28)\n",
      "The first_sample is: \n",
      " [[  0   0   0   0   0   0   0   0   0   0   0   0   0   0   0   0   0   0\n",
      "    0   0   0   0   0   0   0   0   0   0]\n",
      " [  0   0   0   0   0   0   0   0   0   0   0   0   0   0   0   0   0   0\n",
      "    0   0   0   0   0   0   0   0   0   0]\n",
      " [  0   0   0   0   0   0   0   0   0   0   0   0   0   0   0   0   0   0\n",
      "    0   0   0   0   0   0   0   0   0   0]\n",
      " [  0   0   0   0   0   0   0   0   0   0   0   0   0   0   0   0   0   0\n",
      "    0   0   0   0   0   0   0   0   0   0]\n",
      " [  0   0   0   0   0   0   0   0   0   0   0   0   0   0   0   0   0   0\n",
      "    0   0   0   0   0   0   0   0   0   0]\n",
      " [  0   0   0   0   0   0   0   0   0   0   0   0   3  18  18  18 126 136\n",
      "  175  26 166 255 247 127   0   0   0   0]\n",
      " [  0   0   0   0   0   0   0   0  30  36  94 154 170 253 253 253 253 253\n",
      "  225 172 253 242 195  64   0   0   0   0]\n",
      " [  0   0   0   0   0   0   0  49 238 253 253 253 253 253 253 253 253 251\n",
      "   93  82  82  56  39   0   0   0   0   0]\n",
      " [  0   0   0   0   0   0   0  18 219 253 253 253 253 253 198 182 247 241\n",
      "    0   0   0   0   0   0   0   0   0   0]\n",
      " [  0   0   0   0   0   0   0   0  80 156 107 253 253 205  11   0  43 154\n",
      "    0   0   0   0   0   0   0   0   0   0]\n",
      " [  0   0   0   0   0   0   0   0   0  14   1 154 253  90   0   0   0   0\n",
      "    0   0   0   0   0   0   0   0   0   0]\n",
      " [  0   0   0   0   0   0   0   0   0   0   0 139 253 190   2   0   0   0\n",
      "    0   0   0   0   0   0   0   0   0   0]\n",
      " [  0   0   0   0   0   0   0   0   0   0   0  11 190 253  70   0   0   0\n",
      "    0   0   0   0   0   0   0   0   0   0]\n",
      " [  0   0   0   0   0   0   0   0   0   0   0   0  35 241 225 160 108   1\n",
      "    0   0   0   0   0   0   0   0   0   0]\n",
      " [  0   0   0   0   0   0   0   0   0   0   0   0   0  81 240 253 253 119\n",
      "   25   0   0   0   0   0   0   0   0   0]\n",
      " [  0   0   0   0   0   0   0   0   0   0   0   0   0   0  45 186 253 253\n",
      "  150  27   0   0   0   0   0   0   0   0]\n",
      " [  0   0   0   0   0   0   0   0   0   0   0   0   0   0   0  16  93 252\n",
      "  253 187   0   0   0   0   0   0   0   0]\n",
      " [  0   0   0   0   0   0   0   0   0   0   0   0   0   0   0   0   0 249\n",
      "  253 249  64   0   0   0   0   0   0   0]\n",
      " [  0   0   0   0   0   0   0   0   0   0   0   0   0   0  46 130 183 253\n",
      "  253 207   2   0   0   0   0   0   0   0]\n",
      " [  0   0   0   0   0   0   0   0   0   0   0   0  39 148 229 253 253 253\n",
      "  250 182   0   0   0   0   0   0   0   0]\n",
      " [  0   0   0   0   0   0   0   0   0   0  24 114 221 253 253 253 253 201\n",
      "   78   0   0   0   0   0   0   0   0   0]\n",
      " [  0   0   0   0   0   0   0   0  23  66 213 253 253 253 253 198  81   2\n",
      "    0   0   0   0   0   0   0   0   0   0]\n",
      " [  0   0   0   0   0   0  18 171 219 253 253 253 253 195  80   9   0   0\n",
      "    0   0   0   0   0   0   0   0   0   0]\n",
      " [  0   0   0   0  55 172 226 253 253 253 253 244 133  11   0   0   0   0\n",
      "    0   0   0   0   0   0   0   0   0   0]\n",
      " [  0   0   0   0 136 253 253 253 212 135 132  16   0   0   0   0   0   0\n",
      "    0   0   0   0   0   0   0   0   0   0]\n",
      " [  0   0   0   0   0   0   0   0   0   0   0   0   0   0   0   0   0   0\n",
      "    0   0   0   0   0   0   0   0   0   0]\n",
      " [  0   0   0   0   0   0   0   0   0   0   0   0   0   0   0   0   0   0\n",
      "    0   0   0   0   0   0   0   0   0   0]\n",
      " [  0   0   0   0   0   0   0   0   0   0   0   0   0   0   0   0   0   0\n",
      "    0   0   0   0   0   0   0   0   0   0]]\n"
     ]
    }
   ],
   "source": [
    "first_sample = change_to_pil_matrix (data,0)\n",
    "print(\"The shape of first_sample is:\", \"\\n\", first_sample.shape)\n",
    "print(\"The first_sample is:\", \"\\n\",first_sample)"
   ]
  },
  {
   "cell_type": "markdown",
   "id": "142f1c61",
   "metadata": {
    "papermill": {
     "duration": 0.00858,
     "end_time": "2022-11-14T02:56:27.337852",
     "exception": false,
     "start_time": "2022-11-14T02:56:27.329272",
     "status": "completed"
    },
    "tags": []
   },
   "source": [
    "## 4. Plot the first sample with plt.imshow()"
   ]
  },
  {
   "cell_type": "code",
   "execution_count": 7,
   "id": "5318f7b3",
   "metadata": {
    "execution": {
     "iopub.execute_input": "2022-11-14T02:56:27.357651Z",
     "iopub.status.busy": "2022-11-14T02:56:27.357251Z",
     "iopub.status.idle": "2022-11-14T02:56:27.580871Z",
     "shell.execute_reply": "2022-11-14T02:56:27.579766Z"
    },
    "papermill": {
     "duration": 0.236591,
     "end_time": "2022-11-14T02:56:27.583377",
     "exception": false,
     "start_time": "2022-11-14T02:56:27.346786",
     "status": "completed"
    },
    "tags": []
   },
   "outputs": [
    {
     "data": {
      "text/plain": [
       "(<module 'matplotlib.pyplot' from '/opt/conda/lib/python3.7/site-packages/matplotlib/pyplot.py'>,\n",
       " <matplotlib.image.AxesImage at 0x7ff041ba8ad0>)"
      ]
     },
     "execution_count": 7,
     "metadata": {},
     "output_type": "execute_result"
    },
    {
     "data": {
      "image/png": "[encoded data removed]",
      "text/plain": [
       "<Figure size 432x288 with 1 Axes>"
      ]
     },
     "metadata": {
      "needs_background": "light"
     },
     "output_type": "display_data"
    }
   ],
   "source": [
    "plt,imshow(first_sample)"
   ]
  },
  {
   "cell_type": "markdown",
   "id": "03df9021",
   "metadata": {
    "papermill": {
     "duration": 0.009007,
     "end_time": "2022-11-14T02:56:27.601755",
     "exception": false,
     "start_time": "2022-11-14T02:56:27.592748",
     "status": "completed"
    },
    "tags": []
   },
   "source": [
    "## 5. Split the data into X (the pixel values) and y (the digit label)"
   ]
  },
  {
   "cell_type": "code",
   "execution_count": 8,
   "id": "0e6e4ad1",
   "metadata": {
    "execution": {
     "iopub.execute_input": "2022-11-14T02:56:27.622437Z",
     "iopub.status.busy": "2022-11-14T02:56:27.622013Z",
     "iopub.status.idle": "2022-11-14T02:56:27.811850Z",
     "shell.execute_reply": "2022-11-14T02:56:27.810186Z"
    },
    "papermill": {
     "duration": 0.203443,
     "end_time": "2022-11-14T02:56:27.814434",
     "exception": false,
     "start_time": "2022-11-14T02:56:27.610991",
     "status": "completed"
    },
    "tags": []
   },
   "outputs": [
    {
     "name": "stdout",
     "output_type": "stream",
     "text": [
      "The shape of X is: \n",
      " (60000, 784)\n",
      "X is: \n",
      " [[0 0 0 ... 0 0 0]\n",
      " [0 0 0 ... 0 0 0]\n",
      " [0 0 0 ... 0 0 0]\n",
      " ...\n",
      " [0 0 0 ... 0 0 0]\n",
      " [0 0 0 ... 0 0 0]\n",
      " [0 0 0 ... 0 0 0]]\n"
     ]
    }
   ],
   "source": [
    "X = np.array(data)\n",
    "\n",
    "print(\"The shape of X is:\", \"\\n\", X.shape)\n",
    "print(\"X is:\", \"\\n\", X)"
   ]
  },
  {
   "cell_type": "code",
   "execution_count": 9,
   "id": "d032e27b",
   "metadata": {
    "execution": {
     "iopub.execute_input": "2022-11-14T02:56:27.835372Z",
     "iopub.status.busy": "2022-11-14T02:56:27.834933Z",
     "iopub.status.idle": "2022-11-14T02:56:27.844988Z",
     "shell.execute_reply": "2022-11-14T02:56:27.843971Z"
    },
    "papermill": {
     "duration": 0.02321,
     "end_time": "2022-11-14T02:56:27.847273",
     "exception": false,
     "start_time": "2022-11-14T02:56:27.824063",
     "status": "completed"
    },
    "tags": []
   },
   "outputs": [
    {
     "name": "stdout",
     "output_type": "stream",
     "text": [
      "The shape of Y is: \n",
      " (60000,)\n",
      "Y is: \n",
      " 0        5\n",
      "1        0\n",
      "2        4\n",
      "3        1\n",
      "4        9\n",
      "        ..\n",
      "59995    8\n",
      "59996    3\n",
      "59997    5\n",
      "59998    6\n",
      "59999    8\n",
      "Name: label, Length: 60000, dtype: int64\n"
     ]
    }
   ],
   "source": [
    "#Y is he digit label\n",
    "Y = df[\"label\"]\n",
    "\n",
    "print(\"The shape of Y is:\", \"\\n\", Y.shape)\n",
    "print(\"Y is:\", \"\\n\", Y)"
   ]
  },
  {
   "cell_type": "markdown",
   "id": "a594ba1f",
   "metadata": {
    "papermill": {
     "duration": 0.009207,
     "end_time": "2022-11-14T02:56:27.866094",
     "exception": false,
     "start_time": "2022-11-14T02:56:27.856887",
     "status": "completed"
    },
    "tags": []
   },
   "source": [
    "## 6. Standardize X by dividing 255.0"
   ]
  },
  {
   "cell_type": "code",
   "execution_count": 10,
   "id": "ccc2a9cf",
   "metadata": {
    "execution": {
     "iopub.execute_input": "2022-11-14T02:56:27.887350Z",
     "iopub.status.busy": "2022-11-14T02:56:27.886541Z",
     "iopub.status.idle": "2022-11-14T02:56:28.256308Z",
     "shell.execute_reply": "2022-11-14T02:56:28.255333Z"
    },
    "papermill": {
     "duration": 0.38303,
     "end_time": "2022-11-14T02:56:28.258634",
     "exception": false,
     "start_time": "2022-11-14T02:56:27.875604",
     "status": "completed"
    },
    "tags": []
   },
   "outputs": [
    {
     "name": "stdout",
     "output_type": "stream",
     "text": [
      "Check before normalization:\n",
      "0 - 255\n",
      "Check after min-max normalization:\n",
      "0.0 - 1.0\n"
     ]
    }
   ],
   "source": [
    "def normalization (data):\n",
    "    nol_data = data/255\n",
    "    \n",
    "    return nol_data\n",
    "\n",
    "nol_X = normalization (X)\n",
    "\n",
    "#check\n",
    "print(\"Check before normalization:\")\n",
    "print(X.min(), \"-\", X.max())\n",
    "print(\"Check after min-max normalization:\")\n",
    "print(nol_X.min(), \"-\", nol_X.max())"
   ]
  },
  {
   "cell_type": "markdown",
   "id": "623b8114",
   "metadata": {
    "papermill": {
     "duration": 0.009122,
     "end_time": "2022-11-14T02:56:28.277616",
     "exception": false,
     "start_time": "2022-11-14T02:56:28.268494",
     "status": "completed"
    },
    "tags": []
   },
   "source": [
    "## 7. Apply PCA to X and obtain the eigenvalues as well as the eigenvectors (please implement it with numpy instead of other advanced libraries)"
   ]
  },
  {
   "cell_type": "code",
   "execution_count": 11,
   "id": "cb04304e",
   "metadata": {
    "execution": {
     "iopub.execute_input": "2022-11-14T02:56:28.298983Z",
     "iopub.status.busy": "2022-11-14T02:56:28.298223Z",
     "iopub.status.idle": "2022-11-14T02:56:29.644200Z",
     "shell.execute_reply": "2022-11-14T02:56:29.642903Z"
    },
    "papermill": {
     "duration": 1.360413,
     "end_time": "2022-11-14T02:56:29.647612",
     "exception": false,
     "start_time": "2022-11-14T02:56:28.287199",
     "status": "completed"
    },
    "tags": []
   },
   "outputs": [
    {
     "name": "stdout",
     "output_type": "stream",
     "text": [
      "Eigenvalues as well as eigenvectors are: \n",
      " [[0. 0. 0. ... 0. 0. 0.]\n",
      " [0. 0. 0. ... 0. 0. 0.]\n",
      " [0. 0. 0. ... 0. 0. 0.]\n",
      " ...\n",
      " [0. 0. 0. ... 1. 0. 0.]\n",
      " [0. 0. 0. ... 0. 1. 0.]\n",
      " [0. 0. 0. ... 0. 0. 1.]]\n"
     ]
    }
   ],
   "source": [
    "#get covariance matrix \n",
    "covX = np.cov(nol_X.T)\n",
    "\n",
    "#get eigenvalues, eigenvectors, which arranged from largest to smallest\n",
    "eigenvalues, eigenvectors = np.linalg.eig(covX)\n",
    "print(\"Eigenvalues as well as eigenvectors are:\",\"\\n\",eigenvectors)"
   ]
  },
  {
   "cell_type": "markdown",
   "id": "0dd38aa3",
   "metadata": {
    "papermill": {
     "duration": 0.014691,
     "end_time": "2022-11-14T02:56:29.677808",
     "exception": false,
     "start_time": "2022-11-14T02:56:29.663117",
     "status": "completed"
    },
    "tags": []
   },
   "source": [
    "## 8. You may notice that the results contain the complex numbers of which the imaginary part is zero. Please remove the imaginary part with np.real()"
   ]
  },
  {
   "cell_type": "code",
   "execution_count": 12,
   "id": "81c33aed",
   "metadata": {
    "execution": {
     "iopub.execute_input": "2022-11-14T02:56:29.710368Z",
     "iopub.status.busy": "2022-11-14T02:56:29.709729Z",
     "iopub.status.idle": "2022-11-14T02:56:29.723660Z",
     "shell.execute_reply": "2022-11-14T02:56:29.722305Z"
    },
    "papermill": {
     "duration": 0.034483,
     "end_time": "2022-11-14T02:56:29.727557",
     "exception": false,
     "start_time": "2022-11-14T02:56:29.693074",
     "status": "completed"
    },
    "tags": []
   },
   "outputs": [
    {
     "name": "stdout",
     "output_type": "stream",
     "text": [
      "Eigenvectors after remove the imaginary part are: \n",
      " [[0. 0. 0. ... 0. 0. 0.]\n",
      " [0. 0. 0. ... 0. 0. 0.]\n",
      " [0. 0. 0. ... 0. 0. 0.]\n",
      " ...\n",
      " [0. 0. 0. ... 1. 0. 0.]\n",
      " [0. 0. 0. ... 0. 1. 0.]\n",
      " [0. 0. 0. ... 0. 0. 1.]]\n"
     ]
    }
   ],
   "source": [
    "remove_i_eigenvectors = np.real(eigenvectors)\n",
    "print(\"Eigenvectors after remove the imaginary part are:\",\"\\n\",remove_i_eigenvectors)"
   ]
  },
  {
   "cell_type": "markdown",
   "id": "1a6507c6",
   "metadata": {
    "papermill": {
     "duration": 0.011881,
     "end_time": "2022-11-14T02:56:29.755246",
     "exception": false,
     "start_time": "2022-11-14T02:56:29.743365",
     "status": "completed"
    },
    "tags": []
   },
   "source": [
    "## 9. Use the top-30 eigenvectors (with the largest thirty eigenvalues) to transform the training data to Z."
   ]
  },
  {
   "cell_type": "code",
   "execution_count": 13,
   "id": "ab58d436",
   "metadata": {
    "execution": {
     "iopub.execute_input": "2022-11-14T02:56:29.776190Z",
     "iopub.status.busy": "2022-11-14T02:56:29.775695Z",
     "iopub.status.idle": "2022-11-14T02:56:29.984788Z",
     "shell.execute_reply": "2022-11-14T02:56:29.983517Z"
    },
    "papermill": {
     "duration": 0.223152,
     "end_time": "2022-11-14T02:56:29.988023",
     "exception": false,
     "start_time": "2022-11-14T02:56:29.764871",
     "status": "completed"
    },
    "tags": []
   },
   "outputs": [
    {
     "name": "stdout",
     "output_type": "stream",
     "text": [
      "The shape of Z is: \n",
      " (60000, 30)\n",
      "Z is: \n",
      " [[-3.45384876 -1.29392457  0.77492676 ... -0.6360691  -0.51386024\n",
      "   0.5206804 ]\n",
      " [-6.93536165 -1.22405311  3.20964681 ... -0.16166522 -1.43901047\n",
      "   0.3729488 ]\n",
      " [-2.76450681  1.47018294  0.13180638 ... -0.52084165  0.02981159\n",
      "   1.12786725]\n",
      " ...\n",
      " [-2.26958978  0.5600067  -0.13918709 ...  0.64755595 -0.71228873\n",
      "   1.51175629]\n",
      " [-3.48001928 -0.08968016  2.88619235 ...  1.11891731 -0.48737813\n",
      "  -0.14931916]\n",
      " [-2.28769762 -0.16468747  3.05152655 ...  0.7286741  -0.21899266\n",
      "  -0.11495676]]\n"
     ]
    }
   ],
   "source": [
    "#select the largest k feature vectors, k=30 here\n",
    "selectVec = remove_i_eigenvectors[:, :30]\n",
    "Z = np.dot(nol_X, selectVec)\n",
    "\n",
    "print(\"The shape of Z is:\", \"\\n\", Z.shape)\n",
    "print(\"Z is:\", \"\\n\",Z)"
   ]
  },
  {
   "cell_type": "markdown",
   "id": "66ec1699",
   "metadata": {
    "papermill": {
     "duration": 0.014938,
     "end_time": "2022-11-14T02:56:30.018481",
     "exception": false,
     "start_time": "2022-11-14T02:56:30.003543",
     "status": "completed"
    },
    "tags": []
   },
   "source": [
    "## 10. Reconstruct the training data from Z to X~, then multiply it by 255.0"
   ]
  },
  {
   "cell_type": "code",
   "execution_count": 14,
   "id": "dea392d9",
   "metadata": {
    "execution": {
     "iopub.execute_input": "2022-11-14T02:56:30.053214Z",
     "iopub.status.busy": "2022-11-14T02:56:30.052610Z",
     "iopub.status.idle": "2022-11-14T02:56:30.297327Z",
     "shell.execute_reply": "2022-11-14T02:56:30.296009Z"
    },
    "papermill": {
     "duration": 0.266777,
     "end_time": "2022-11-14T02:56:30.300939",
     "exception": false,
     "start_time": "2022-11-14T02:56:30.034162",
     "status": "completed"
    },
    "tags": []
   },
   "outputs": [
    {
     "name": "stdout",
     "output_type": "stream",
     "text": [
      "The shape of X~ is: \n",
      " (60000, 784)\n",
      "X~ is: \n",
      " [[0. 0. 0. ... 0. 0. 0.]\n",
      " [0. 0. 0. ... 0. 0. 0.]\n",
      " [0. 0. 0. ... 0. 0. 0.]\n",
      " ...\n",
      " [0. 0. 0. ... 0. 0. 0.]\n",
      " [0. 0. 0. ... 0. 0. 0.]\n",
      " [0. 0. 0. ... 0. 0. 0.]]\n"
     ]
    }
   ],
   "source": [
    "X_reconstruct = np.dot(Z, selectVec.T) * 255\n",
    "\n",
    "print(\"The shape of X~ is:\", \"\\n\", X_reconstruct.shape)\n",
    "print(\"X~ is:\", \"\\n\",X_reconstruct)"
   ]
  },
  {
   "cell_type": "markdown",
   "id": "91faedf5",
   "metadata": {
    "papermill": {
     "duration": 0.015117,
     "end_time": "2022-11-14T02:56:30.333572",
     "exception": false,
     "start_time": "2022-11-14T02:56:30.318455",
     "status": "completed"
    },
    "tags": []
   },
   "source": [
    "## 11. Plot the sample of the reconstructed data X~. Compare it with the original one. "
   ]
  },
  {
   "cell_type": "markdown",
   "id": "2b754ae1",
   "metadata": {
    "papermill": {
     "duration": 0.014766,
     "end_time": "2022-11-14T02:56:30.364218",
     "exception": false,
     "start_time": "2022-11-14T02:56:30.349452",
     "status": "completed"
    },
    "tags": []
   },
   "source": [
    "Compare like the first sample."
   ]
  },
  {
   "cell_type": "code",
   "execution_count": 15,
   "id": "02a3d233",
   "metadata": {
    "execution": {
     "iopub.execute_input": "2022-11-14T02:56:30.386147Z",
     "iopub.status.busy": "2022-11-14T02:56:30.385723Z",
     "iopub.status.idle": "2022-11-14T02:56:30.672530Z",
     "shell.execute_reply": "2022-11-14T02:56:30.671403Z"
    },
    "papermill": {
     "duration": 0.300723,
     "end_time": "2022-11-14T02:56:30.675324",
     "exception": false,
     "start_time": "2022-11-14T02:56:30.374601",
     "status": "completed"
    },
    "tags": []
   },
   "outputs": [
    {
     "data": {
      "text/plain": [
       "<matplotlib.image.AxesImage at 0x7ff0417b1050>"
      ]
     },
     "execution_count": 15,
     "metadata": {},
     "output_type": "execute_result"
    },
    {
     "data": {
      "image/png": "[encoded data removed]",
      "text/plain": [
       "<Figure size 432x288 with 2 Axes>"
      ]
     },
     "metadata": {
      "needs_background": "light"
     },
     "output_type": "display_data"
    }
   ],
   "source": [
    "fig = plt.figure()\n",
    " \n",
    "ax = fig.add_subplot(121)\n",
    "plt.title(\"1st sample before pca\")\n",
    "ax.imshow(first_sample)\n",
    "\n",
    "pca_first_sample = change_to_pil_matrix (X_reconstruct,0)\n",
    "ax = fig.add_subplot(122)\n",
    "plt.title(\"1st sample after pca\")\n",
    "ax.imshow(pca_first_sample)\n",
    "\n",
    "#print(first_sample.shape, pca_first_sample.shape)"
   ]
  },
  {
   "cell_type": "markdown",
   "id": "872b5233",
   "metadata": {
    "papermill": {
     "duration": 0.009669,
     "end_time": "2022-11-14T02:56:30.695538",
     "exception": false,
     "start_time": "2022-11-14T02:56:30.685869",
     "status": "completed"
    },
    "tags": []
   },
   "source": [
    "Conclusion: The image sharpness is reduced after PCA."
   ]
  },
  {
   "cell_type": "markdown",
   "id": "38299be7",
   "metadata": {
    "papermill": {
     "duration": 0.009603,
     "end_time": "2022-11-14T02:56:30.715202",
     "exception": false,
     "start_time": "2022-11-14T02:56:30.705599",
     "status": "completed"
    },
    "tags": []
   },
   "source": [
    "# * Simplify steps and function packaging"
   ]
  },
  {
   "cell_type": "markdown",
   "id": "a8ae1d68",
   "metadata": {
    "papermill": {
     "duration": 0.009563,
     "end_time": "2022-11-14T02:56:30.734771",
     "exception": false,
     "start_time": "2022-11-14T02:56:30.725208",
     "status": "completed"
    },
    "tags": []
   },
   "source": [
    "## ** Simplify step 3-5"
   ]
  },
  {
   "cell_type": "code",
   "execution_count": 16,
   "id": "59864e39",
   "metadata": {
    "execution": {
     "iopub.execute_input": "2022-11-14T02:56:30.757147Z",
     "iopub.status.busy": "2022-11-14T02:56:30.756351Z",
     "iopub.status.idle": "2022-11-14T02:56:30.919668Z",
     "shell.execute_reply": "2022-11-14T02:56:30.918488Z"
    },
    "papermill": {
     "duration": 0.177923,
     "end_time": "2022-11-14T02:56:30.922907",
     "exception": false,
     "start_time": "2022-11-14T02:56:30.744984",
     "status": "completed"
    },
    "tags": []
   },
   "outputs": [
    {
     "data": {
      "image/png": "[encoded data removed]",
      "text/plain": [
       "<Figure size 432x288 with 1 Axes>"
      ]
     },
     "metadata": {
      "needs_background": "light"
     },
     "output_type": "display_data"
    },
    {
     "name": "stdout",
     "output_type": "stream",
     "text": [
      "The label of 1 th sample is 5\n"
     ]
    }
   ],
   "source": [
    "three_d_X = np.reshape(X,(60000, 28, 28))\n",
    "\n",
    "\n",
    "def show_PIL_image_and_Label (x,y,i):  #aim to take the (i+1)th sample\n",
    "    plt.imshow(x[i])\n",
    "    plt.show()\n",
    "    label = y[i]\n",
    "    print(\"The label of\", i+1, \"th sample is\", label)\n",
    "    return label\n",
    "\n",
    "first_sample_label = show_PIL_image_and_Label(three_d_X,Y,0)"
   ]
  },
  {
   "cell_type": "markdown",
   "id": "da509445",
   "metadata": {
    "papermill": {
     "duration": 0.009851,
     "end_time": "2022-11-14T02:56:30.942849",
     "exception": false,
     "start_time": "2022-11-14T02:56:30.932998",
     "status": "completed"
    },
    "tags": []
   },
   "source": [
    "## ** Function packaging step 6-10"
   ]
  },
  {
   "cell_type": "markdown",
   "id": "368af602",
   "metadata": {
    "papermill": {
     "duration": 0.009738,
     "end_time": "2022-11-14T02:56:30.962921",
     "exception": false,
     "start_time": "2022-11-14T02:56:30.953183",
     "status": "completed"
    },
    "tags": []
   },
   "source": [
    "Parameters:\n",
    "- X: raw data matrix\n",
    "- k: indicates the number of principal components\n",
    "The return value:\n",
    "- Z: The returned low-dimensional matrix\n",
    "- X_reconstruct: The matrix after reconstruct the training data"
   ]
  },
  {
   "cell_type": "code",
   "execution_count": 17,
   "id": "a34d4cda",
   "metadata": {
    "execution": {
     "iopub.execute_input": "2022-11-14T02:56:30.984833Z",
     "iopub.status.busy": "2022-11-14T02:56:30.984341Z",
     "iopub.status.idle": "2022-11-14T02:56:32.932741Z",
     "shell.execute_reply": "2022-11-14T02:56:32.931498Z"
    },
    "papermill": {
     "duration": 1.963561,
     "end_time": "2022-11-14T02:56:32.936579",
     "exception": false,
     "start_time": "2022-11-14T02:56:30.973018",
     "status": "completed"
    },
    "tags": []
   },
   "outputs": [
    {
     "data": {
      "text/plain": [
       "array([[0., 0., 0., ..., 0., 0., 0.],\n",
       "       [0., 0., 0., ..., 0., 0., 0.],\n",
       "       [0., 0., 0., ..., 0., 0., 0.],\n",
       "       ...,\n",
       "       [0., 0., 0., ..., 0., 0., 0.],\n",
       "       [0., 0., 0., ..., 0., 0., 0.],\n",
       "       [0., 0., 0., ..., 0., 0., 0.]])"
      ]
     },
     "execution_count": 17,
     "metadata": {},
     "output_type": "execute_result"
    }
   ],
   "source": [
    "def pca(X, k):\n",
    "    m, n = np.shape(X)                                # Returns the dimension of X is m*n\n",
    "    nol_X = X/255                                     # step6: Standardize X by dividing 255.0(min-max)\n",
    "    covX = np.cov(nol_X.T)                            # step7: Get the covariance matrix\n",
    "    eigenValue, eigenVec = np.linalg.eig(covX)        # step7: Get eigenvalues that from the largest to the smallest\n",
    "    remove_i_eigenvectors = np.real(eigenVec)         # step8: remove i part\n",
    "                                                   \n",
    "    if k > n:\n",
    "        print('k must be lower than feature number') \n",
    "        return\n",
    "    else:\n",
    "        selectVec = remove_i_eigenvectors[:, :k]      # Select the largest k feature vectors\n",
    "        Z = np.dot(nol_X, selectVec)                  # step9\n",
    "        X_reconstruct = np.dot(Z, selectVec.T)*255    # step10\n",
    "    return X_reconstruct\n",
    "\n",
    "#when k = 30\n",
    "X_reconstruct_after_pca = pca(X,30)\n",
    "X_reconstruct_after_pca                               # same to X_reconstruct in step10"
   ]
  },
  {
   "cell_type": "markdown",
   "id": "92b1bc1f",
   "metadata": {
    "papermill": {
     "duration": 0.016128,
     "end_time": "2022-11-14T02:56:32.970102",
     "exception": false,
     "start_time": "2022-11-14T02:56:32.953974",
     "status": "completed"
    },
    "tags": []
   },
   "source": [
    "## ** Result in step 11"
   ]
  },
  {
   "cell_type": "code",
   "execution_count": 18,
   "id": "f4e5a023",
   "metadata": {
    "execution": {
     "iopub.execute_input": "2022-11-14T02:56:33.001558Z",
     "iopub.status.busy": "2022-11-14T02:56:33.001171Z",
     "iopub.status.idle": "2022-11-14T02:56:33.193830Z",
     "shell.execute_reply": "2022-11-14T02:56:33.192928Z"
    },
    "papermill": {
     "duration": 0.209524,
     "end_time": "2022-11-14T02:56:33.196260",
     "exception": false,
     "start_time": "2022-11-14T02:56:32.986736",
     "status": "completed"
    },
    "tags": []
   },
   "outputs": [
    {
     "data": {
      "text/plain": [
       "<matplotlib.image.AxesImage at 0x7ff041b00a50>"
      ]
     },
     "execution_count": 18,
     "metadata": {},
     "output_type": "execute_result"
    },
    {
     "data": {
      "image/png": "[encoded data removed]",
      "text/plain": [
       "<Figure size 432x288 with 1 Axes>"
      ]
     },
     "metadata": {
      "needs_background": "light"
     },
     "output_type": "display_data"
    }
   ],
   "source": [
    "pca_first_sample = change_to_pil_matrix (X_reconstruct_after_pca,0)\n",
    "plt.title(\"1st sample after pca\")\n",
    "plt.imshow(pca_first_sample)"
   ]
  }
 ],
 "metadata": {
  "kernelspec": {
   "display_name": "Python 3",
   "language": "python",
   "name": "python3"
  },
  "language_info": {
   "codemirror_mode": {
    "name": "ipython",
    "version": 3
   },
   "file_extension": ".py",
   "mimetype": "text/x-python",
   "name": "python",
   "nbconvert_exporter": "python",
   "pygments_lexer": "ipython3",
   "version": "3.7.12"
  },
  "papermill": {
   "default_parameters": {},
   "duration": 20.653136,
   "end_time": "2022-11-14T02:56:33.929084",
   "environment_variables": {},
   "exception": null,
   "input_path": "__notebook__.ipynb",
   "output_path": "__notebook__.ipynb",
   "parameters": {},
   "start_time": "2022-11-14T02:56:13.275948",
   "version": "2.3.4"
  }
 },
 "nbformat": 4,
 "nbformat_minor": 5
}
